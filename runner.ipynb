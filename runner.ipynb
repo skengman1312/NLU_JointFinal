{
 "cells": [
  {
   "cell_type": "code",
   "execution_count": 3,
   "metadata": {
    "collapsed": true
   },
   "outputs": [
    {
     "name": "stdout",
     "output_type": "stream",
     "text": [
      "Requirement already satisfied: torch~=1.12.0 in c:\\users\\pietro\\pycharmprojects\\nlu_jointfinal\\venv\\lib\\site-packages (from -r requirements.txt (line 1)) (1.12.0)\n",
      "Requirement already satisfied: transformers~=4.20.1 in c:\\users\\pietro\\pycharmprojects\\nlu_jointfinal\\venv\\lib\\site-packages (from -r requirements.txt (line 2)) (4.20.1)\n",
      "Requirement already satisfied: numpy~=1.23.1 in c:\\users\\pietro\\pycharmprojects\\nlu_jointfinal\\venv\\lib\\site-packages (from -r requirements.txt (line 3)) (1.23.1)\n",
      "Requirement already satisfied: tqdm~=4.64.0 in c:\\users\\pietro\\pycharmprojects\\nlu_jointfinal\\venv\\lib\\site-packages (from -r requirements.txt (line 4)) (4.64.0)\n",
      "Requirement already satisfied: pandas~=1.4.3 in c:\\users\\pietro\\pycharmprojects\\nlu_jointfinal\\venv\\lib\\site-packages (from -r requirements.txt (line 5)) (1.4.3)\n",
      "Requirement already satisfied: typing-extensions in c:\\users\\pietro\\pycharmprojects\\nlu_jointfinal\\venv\\lib\\site-packages (from torch~=1.12.0->-r requirements.txt (line 1)) (4.3.0)\n",
      "Requirement already satisfied: huggingface-hub<1.0,>=0.1.0 in c:\\users\\pietro\\pycharmprojects\\nlu_jointfinal\\venv\\lib\\site-packages (from transformers~=4.20.1->-r requirements.txt (line 2)) (0.8.1)\n",
      "Requirement already satisfied: tokenizers!=0.11.3,<0.13,>=0.11.1 in c:\\users\\pietro\\pycharmprojects\\nlu_jointfinal\\venv\\lib\\site-packages (from transformers~=4.20.1->-r requirements.txt (line 2)) (0.12.1)\n",
      "Requirement already satisfied: requests in c:\\users\\pietro\\pycharmprojects\\nlu_jointfinal\\venv\\lib\\site-packages (from transformers~=4.20.1->-r requirements.txt (line 2)) (2.28.1)\n",
      "Requirement already satisfied: pyyaml>=5.1 in c:\\users\\pietro\\pycharmprojects\\nlu_jointfinal\\venv\\lib\\site-packages (from transformers~=4.20.1->-r requirements.txt (line 2)) (6.0)\n",
      "Requirement already satisfied: filelock in c:\\users\\pietro\\pycharmprojects\\nlu_jointfinal\\venv\\lib\\site-packages (from transformers~=4.20.1->-r requirements.txt (line 2)) (3.7.1)\n",
      "Requirement already satisfied: regex!=2019.12.17 in c:\\users\\pietro\\pycharmprojects\\nlu_jointfinal\\venv\\lib\\site-packages (from transformers~=4.20.1->-r requirements.txt (line 2)) (2022.7.9)\n",
      "Requirement already satisfied: packaging>=20.0 in c:\\users\\pietro\\pycharmprojects\\nlu_jointfinal\\venv\\lib\\site-packages (from transformers~=4.20.1->-r requirements.txt (line 2)) (21.3)\n",
      "Requirement already satisfied: colorama in c:\\users\\pietro\\pycharmprojects\\nlu_jointfinal\\venv\\lib\\site-packages (from tqdm~=4.64.0->-r requirements.txt (line 4)) (0.4.5)\n",
      "Requirement already satisfied: pytz>=2020.1 in c:\\users\\pietro\\pycharmprojects\\nlu_jointfinal\\venv\\lib\\site-packages (from pandas~=1.4.3->-r requirements.txt (line 5)) (2022.1)\n",
      "Requirement already satisfied: python-dateutil>=2.8.1 in c:\\users\\pietro\\pycharmprojects\\nlu_jointfinal\\venv\\lib\\site-packages (from pandas~=1.4.3->-r requirements.txt (line 5)) (2.8.2)\n",
      "Requirement already satisfied: pyparsing!=3.0.5,>=2.0.2 in c:\\users\\pietro\\pycharmprojects\\nlu_jointfinal\\venv\\lib\\site-packages (from packaging>=20.0->transformers~=4.20.1->-r requirements.txt (line 2)) (3.0.9)\n",
      "Requirement already satisfied: six>=1.5 in c:\\users\\pietro\\pycharmprojects\\nlu_jointfinal\\venv\\lib\\site-packages (from python-dateutil>=2.8.1->pandas~=1.4.3->-r requirements.txt (line 5)) (1.16.0)\n",
      "Requirement already satisfied: certifi>=2017.4.17 in c:\\users\\pietro\\pycharmprojects\\nlu_jointfinal\\venv\\lib\\site-packages (from requests->transformers~=4.20.1->-r requirements.txt (line 2)) (2022.6.15)\n",
      "Requirement already satisfied: idna<4,>=2.5 in c:\\users\\pietro\\pycharmprojects\\nlu_jointfinal\\venv\\lib\\site-packages (from requests->transformers~=4.20.1->-r requirements.txt (line 2)) (3.3)\n",
      "Requirement already satisfied: charset-normalizer<3,>=2 in c:\\users\\pietro\\pycharmprojects\\nlu_jointfinal\\venv\\lib\\site-packages (from requests->transformers~=4.20.1->-r requirements.txt (line 2)) (2.1.0)\n",
      "Requirement already satisfied: urllib3<1.27,>=1.21.1 in c:\\users\\pietro\\pycharmprojects\\nlu_jointfinal\\venv\\lib\\site-packages (from requests->transformers~=4.20.1->-r requirements.txt (line 2)) (1.26.10)\n"
     ]
    },
    {
     "name": "stderr",
     "output_type": "stream",
     "text": [
      "WARNING: You are using pip version 21.3.1; however, version 22.2.1 is available.\n",
      "You should consider upgrading via the 'C:\\Users\\Pietro\\PycharmProjects\\NLU_JointFinal\\venv\\Scripts\\python.exe -m pip install --upgrade pip' command.\n"
     ]
    }
   ],
   "source": [
    "!pip install -r requirements.txt"
   ]
  },
  {
   "cell_type": "code",
   "execution_count": 4,
   "outputs": [
    {
     "ename": "ModuleNotFoundError",
     "evalue": "No module named 'torch'",
     "output_type": "error",
     "traceback": [
      "\u001B[1;31m---------------------------------------------------------------------------\u001B[0m",
      "\u001B[1;31mModuleNotFoundError\u001B[0m                       Traceback (most recent call last)",
      "Input \u001B[1;32mIn [4]\u001B[0m, in \u001B[0;36m<cell line: 1>\u001B[1;34m()\u001B[0m\n\u001B[1;32m----> 1\u001B[0m \u001B[38;5;28;01mimport\u001B[39;00m \u001B[38;5;21;01mtraining\u001B[39;00m\n",
      "File \u001B[1;32m~\\PycharmProjects\\NLU_JointFinal\\training.py:4\u001B[0m, in \u001B[0;36m<module>\u001B[1;34m\u001B[0m\n\u001B[0;32m      2\u001B[0m \u001B[38;5;28;01mfrom\u001B[39;00m \u001B[38;5;21;01mtqdm\u001B[39;00m \u001B[38;5;28;01mimport\u001B[39;00m tqdm, trange\n\u001B[0;32m      3\u001B[0m \u001B[38;5;28;01mimport\u001B[39;00m \u001B[38;5;21;01mnumpy\u001B[39;00m \u001B[38;5;28;01mas\u001B[39;00m \u001B[38;5;21;01mnp\u001B[39;00m\n\u001B[1;32m----> 4\u001B[0m \u001B[38;5;28;01mimport\u001B[39;00m \u001B[38;5;21;01mtorch\u001B[39;00m\n\u001B[0;32m      5\u001B[0m \u001B[38;5;28;01mfrom\u001B[39;00m \u001B[38;5;21;01mtorch\u001B[39;00m\u001B[38;5;21;01m.\u001B[39;00m\u001B[38;5;21;01mutils\u001B[39;00m\u001B[38;5;21;01m.\u001B[39;00m\u001B[38;5;21;01mdata\u001B[39;00m \u001B[38;5;28;01mimport\u001B[39;00m DataLoader, RandomSampler, SequentialSampler\n\u001B[0;32m      6\u001B[0m \u001B[38;5;28;01mfrom\u001B[39;00m \u001B[38;5;21;01mtransformers\u001B[39;00m \u001B[38;5;28;01mimport\u001B[39;00m BertConfig, AdamW, get_linear_schedule_with_warmup\n",
      "\u001B[1;31mModuleNotFoundError\u001B[0m: No module named 'torch'"
     ]
    }
   ],
   "source": [
    "import training"
   ],
   "metadata": {
    "collapsed": false,
    "pycharm": {
     "name": "#%%\n"
    }
   }
  },
  {
   "cell_type": "code",
   "execution_count": null,
   "outputs": [],
   "source": [],
   "metadata": {
    "collapsed": false,
    "pycharm": {
     "name": "#%%\n"
    }
   }
  }
 ],
 "metadata": {
  "kernelspec": {
   "display_name": "Python 3",
   "language": "python",
   "name": "python3"
  },
  "language_info": {
   "codemirror_mode": {
    "name": "ipython",
    "version": 2
   },
   "file_extension": ".py",
   "mimetype": "text/x-python",
   "name": "python",
   "nbconvert_exporter": "python",
   "pygments_lexer": "ipython2",
   "version": "2.7.6"
  }
 },
 "nbformat": 4,
 "nbformat_minor": 0
}